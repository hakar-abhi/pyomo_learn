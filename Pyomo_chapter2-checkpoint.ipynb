{
 "cells": [
  {
   "cell_type": "markdown",
   "id": "78f6a7a7-36dc-49df-bc84-9a8fb1477c12",
   "metadata": {},
   "source": [
    "# Looking at pyomo "
   ]
  },
  {
   "cell_type": "code",
   "execution_count": null,
   "id": "85c5be95-7b8c-420f-a5ac-84a4db03f502",
   "metadata": {},
   "outputs": [],
   "source": [
    "# Pyomo is an open source framework for formulating, solving and analyzing optimisation\n",
    "# problems with python.\n",
    "#One can embed within Python an optimisation problem with\n",
    "# decision vaiables,\n",
    "# optimisation objective\n",
    "# constraints\n",
    "# and solve for these instances using solvers either commerical or open source.\n",
    "# PYOMO- Python Optimisation Modeling Objects\n",
    "# We make use of AML - Algebraic Modeling Languages (AMLs)."
   ]
  },
  {
   "cell_type": "code",
   "execution_count": null,
   "id": "54eb876e-475c-4f06-a503-c92cb7223810",
   "metadata": {},
   "outputs": [],
   "source": [
    "# Also modeling actually means simplistic representation of phenomenons occuring in real life\n",
    "# modeling requires formulation of those representations\n",
    "# structured representation allows us to analyze the model and use it.\n",
    "# modeling demands subject expertise, subject expertise provides depth in modeling\n",
    "# modeling depth is also guided by complexity of phenomenon, use case, cost, etc.\n",
    "# Planning demands modeling, system planning in power system needs to assess the \n",
    "# minimum bound of cost required to execute the plan.\n",
    "#minimum resource required to get the porduct.\n",
    "\n",
    "\n"
   ]
  },
  {
   "cell_type": "code",
   "execution_count": null,
   "id": "d91c5d74-4606-4c38-a70b-b081ad9f70de",
   "metadata": {},
   "outputs": [],
   "source": [
    "# Mathematical concepts central to modeling are:\n",
    "# variables: the unknowns, the changing quantities\n",
    "# parameters: the symbolic representation of real world data, like mean and standard deviation\n",
    "# required to model the Gaussian distribution\n",
    "# relations: relationships like equality, inequality, equations that define relationships\n"
   ]
  },
  {
   "cell_type": "code",
   "execution_count": 1,
   "id": "ac172ad3-7769-45ba-9299-76504aecb8a7",
   "metadata": {},
   "outputs": [],
   "source": [
    "# Optimisation models are one of a kind of mathematical models, where we have am objective function\n",
    "# that represents the goal of the system.\n",
    "# here we are optimising the system goal/objective\n",
    "# Model vs model instance like human is a model but you and I are instances of it\n",
    "# almost all Pyomo objects lie with pyomo.environ namespace\n",
    "\n",
    "import pyomo.environ as pe\n",
    "\n"
   ]
  },
  {
   "cell_type": "code",
   "execution_count": 2,
   "id": "6cc0bdc2-5c88-426d-bfce-99044719c39a",
   "metadata": {},
   "outputs": [],
   "source": [
    "# Importing all pyomo objects within pyomo.rnviron namespace\n",
    "import pyomo.environ as pe"
   ]
  },
  {
   "cell_type": "code",
   "execution_count": 7,
   "id": "abf73abd-4bc4-4ba0-9c5a-0ae470167c96",
   "metadata": {},
   "outputs": [],
   "source": [
    "# Creating a model object\n",
    "model = pe.AbstractModel() # our moodel is an abstract model\n"
   ]
  },
  {
   "cell_type": "code",
   "execution_count": 13,
   "id": "27acf62e-cffe-4446-a9e6-8f14ea04a83a",
   "metadata": {},
   "outputs": [
    {
     "data": {
      "text/plain": [
       "pyomo.core.base.PyomoModel.AbstractModel"
      ]
     },
     "execution_count": 13,
     "metadata": {},
     "output_type": "execute_result"
    }
   ],
   "source": [
    "type(model)  # check the type of model we created"
   ]
  },
  {
   "cell_type": "code",
   "execution_count": 17,
   "id": "709b2399-c492-489c-ad48-81c37e3167c9",
   "metadata": {},
   "outputs": [
    {
     "name": "stdout",
     "output_type": "stream",
     "text": [
      "WARNING: Implicitly replacing the Component attribute vertices (type=<class\n",
      "'pyomo.core.base.set.AbstractOrderedScalarSet'>) on block unknown with a new\n",
      "Component (type=<class 'pyomo.core.base.set.AbstractOrderedScalarSet'>). This\n",
      "is usually indicative of a modelling error. To avoid this warning, use\n",
      "block.del_component() and block.add_component().\n",
      "WARNING: Implicitly replacing the Component attribute edges (type=<class\n",
      "'pyomo.core.base.set.AbstractOrderedScalarSet'>) on block unknown with a new\n",
      "Component (type=<class 'pyomo.core.base.set.AbstractOrderedScalarSet'>). This\n",
      "is usually indicative of a modelling error. To avoid this warning, use\n",
      "block.del_component() and block.add_component().\n",
      "WARNING: Implicitly replacing the Component attribute ncolors (type=<class\n",
      "'pyomo.core.base.param.ScalarParam'>) on block unknown with a new Component\n",
      "(type=<class 'pyomo.core.base.param.ScalarParam'>). This is usually indicative\n",
      "of a modelling error. To avoid this warning, use block.del_component() and\n",
      "block.add_component().\n"
     ]
    }
   ],
   "source": [
    "# Defining model sets and parameters\n",
    "model.vertices = pe.Set()\n",
    "model.edges = pe.Set(within=model.vertices*model.vertices)\n",
    "model.ncolors = pe.Param(within = pe.PositiveIntegers)\n",
    "model.colors = pe.RangeSet(1,model.ncolors)"
   ]
  },
  {
   "cell_type": "code",
   "execution_count": 19,
   "id": "3e21da7a-fab1-4c39-bd2e-8aa0bead0e36",
   "metadata": {},
   "outputs": [
    {
     "name": "stdout",
     "output_type": "stream",
     "text": [
      "WARNING: Implicitly replacing the Component attribute x (type=<class\n",
      "'pyomo.core.base.var.IndexedVar'>) on block unknown with a new Component\n",
      "(type=<class 'pyomo.core.base.var.IndexedVar'>). This is usually indicative of\n",
      "a modelling error. To avoid this warning, use block.del_component() and\n",
      "block.add_component().\n"
     ]
    }
   ],
   "source": [
    "# Define model variables\n",
    "model.x = pe.Var(model.vertices, model.colors, within=pe.Binary) # 2 dimesnional\n",
    "model.y = pe.Var() # single number variable"
   ]
  },
  {
   "cell_type": "code",
   "execution_count": null,
   "id": "3bf9d0fb-667a-47bb-9a7e-7306b62320f0",
   "metadata": {},
   "outputs": [],
   "source": [
    "# Pyomo supports an object oriented design for the definition of optimisation models\n",
    "# The basic steps for simple modeling process are:\n",
    "# create a model, declare its components; components are objective fxn, decision variables etc.\n",
    "# instantiate the model\n",
    "# apply solver\n",
    "# interrogate solver results\n"
   ]
  },
  {
   "cell_type": "markdown",
   "id": "dc690ba3-a3b7-4b1f-8cd0-3a1d1bdbc520",
   "metadata": {},
   "source": [
    "# Modeling Components in Pyomo"
   ]
  },
  {
   "cell_type": "code",
   "execution_count": null,
   "id": "b3f147c4-e059-4ea1-bd0b-8d01a6a78483",
   "metadata": {},
   "outputs": [],
   "source": [
    "# Pyomo modeling components are defined through following python classes\n",
    "# Set for set data that instantiates the model\n",
    "# Param for parameter data that instantiates the model\n",
    "# Var for decision varaibles\n",
    "# Objective for expressions that are maximized or minimized\n",
    "# Constraint for constraint expressions in model"
   ]
  },
  {
   "cell_type": "markdown",
   "id": "f1faf295-0f87-44a1-8a99-bfc7c9744b7b",
   "metadata": {},
   "source": [
    "# Modeling Pyomo model using expressions\n"
   ]
  },
  {
   "cell_type": "code",
   "execution_count": null,
   "id": "fc19eb78-3f9f-4c6c-8240-b1bc43643907",
   "metadata": {},
   "outputs": [],
   "source": [
    "# for i = 1 to n, we sum cixi, which is the objective function\n",
    "# constrained by sum i = 1 to n, aijxi >= bj\n",
    "# xi >= 0\n",
    "# Its concrete model is an instance of abstract model above:\n",
    "# min x1 + 2x2\n",
    "# st. 3x1 + 4x2 >=1 \n",
    "# 2x1 + 5x2 >=2\n",
    "# x1, x2 >= 0\n",
    "\n"
   ]
  },
  {
   "cell_type": "code",
   "execution_count": 3,
   "id": "9cbfc1a7-d8da-404d-a17b-9dec1e060234",
   "metadata": {},
   "outputs": [],
   "source": [
    "import numpy as np\n",
    "import pyomo.environ as pe\n"
   ]
  },
  {
   "cell_type": "code",
   "execution_count": 4,
   "id": "e4c41a29-4f75-4a5a-8f40-e4a80a0a6988",
   "metadata": {},
   "outputs": [],
   "source": [
    "model = pe.ConcreteModel()"
   ]
  },
  {
   "cell_type": "code",
   "execution_count": 5,
   "id": "7ccd9a66-4ef2-4c5e-920e-79f68a0fa212",
   "metadata": {},
   "outputs": [],
   "source": [
    "model.x_1 = pe.Var(within= pe.NonNegativeReals)\n"
   ]
  },
  {
   "cell_type": "code",
   "execution_count": 6,
   "id": "47ded291-b376-4ea5-beb9-134b29998791",
   "metadata": {},
   "outputs": [],
   "source": [
    "model.x_2 = pe.Var(within = pe.NonNegativeReals)"
   ]
  },
  {
   "cell_type": "code",
   "execution_count": 7,
   "id": "5c0bc94b-370b-4e1b-b088-4f0ecb5252cf",
   "metadata": {},
   "outputs": [],
   "source": [
    "model.obj = pe.Objective(expr = model.x_1 + 2 * model.x_2,sense = pe.minimize)"
   ]
  },
  {
   "cell_type": "code",
   "execution_count": 8,
   "id": "98cc9416-d5c7-40d4-b795-c1f627896ba0",
   "metadata": {},
   "outputs": [],
   "source": [
    "model.con1 = pe.Constraint(expr = 3*model.x_1 + 4 * model.x_2 >= 1)"
   ]
  },
  {
   "cell_type": "code",
   "execution_count": 9,
   "id": "020ab79a-2b63-4999-b5b3-83220dce7916",
   "metadata": {},
   "outputs": [],
   "source": [
    "model.con2 = pe.Constraint(expr = 2*model.x_1 + 5 * model.x_2 >= 2)"
   ]
  },
  {
   "cell_type": "code",
   "execution_count": 10,
   "id": "d3b573d3-7eb1-49e5-8ef3-0be144018a03",
   "metadata": {},
   "outputs": [
    {
     "name": "stdout",
     "output_type": "stream",
     "text": [
      "2 Var Declarations\n",
      "    x_1 : Size=1, Index=None\n",
      "        Key  : Lower : Value : Upper : Fixed : Stale : Domain\n",
      "        None :     0 :  None :  None : False :  True : NonNegativeReals\n",
      "    x_2 : Size=1, Index=None\n",
      "        Key  : Lower : Value : Upper : Fixed : Stale : Domain\n",
      "        None :     0 :  None :  None : False :  True : NonNegativeReals\n",
      "\n",
      "1 Objective Declarations\n",
      "    obj : Size=1, Index=None, Active=True\n",
      "        Key  : Active : Sense    : Expression\n",
      "        None :   True : minimize : x_1 + 2*x_2\n",
      "\n",
      "2 Constraint Declarations\n",
      "    con1 : Size=1, Index=None, Active=True\n",
      "        Key  : Lower : Body          : Upper : Active\n",
      "        None :   1.0 : 3*x_1 + 4*x_2 :  +Inf :   True\n",
      "    con2 : Size=1, Index=None, Active=True\n",
      "        Key  : Lower : Body          : Upper : Active\n",
      "        None :   2.0 : 2*x_1 + 5*x_2 :  +Inf :   True\n",
      "\n",
      "5 Declarations: x_1 x_2 obj con1 con2\n"
     ]
    }
   ],
   "source": [
    "model.pprint()"
   ]
  },
  {
   "cell_type": "code",
   "execution_count": 11,
   "id": "533cac2d-fc84-4a6e-9b3f-14089184636e",
   "metadata": {},
   "outputs": [],
   "source": [
    "# Pyomo does preprocessing to both abstract and concrete models\n",
    "# to simplify expressions, to collect variables\n",
    "# to pre optimize the task"
   ]
  },
  {
   "cell_type": "code",
   "execution_count": 12,
   "id": "2a2b0983-5893-40b9-82f5-46d9c5ff330d",
   "metadata": {},
   "outputs": [],
   "source": [
    "instance = model.create_instance() # book has error or maybe older version has create method"
   ]
  },
  {
   "cell_type": "code",
   "execution_count": 13,
   "id": "d45e6523-8b56-402e-911b-6444273a8963",
   "metadata": {},
   "outputs": [
    {
     "name": "stdout",
     "output_type": "stream",
     "text": [
      "2 Var Declarations\n",
      "    x_1 : Size=1, Index=None\n",
      "        Key  : Lower : Value : Upper : Fixed : Stale : Domain\n",
      "        None :     0 :  None :  None : False :  True : NonNegativeReals\n",
      "    x_2 : Size=1, Index=None\n",
      "        Key  : Lower : Value : Upper : Fixed : Stale : Domain\n",
      "        None :     0 :  None :  None : False :  True : NonNegativeReals\n",
      "\n",
      "1 Objective Declarations\n",
      "    obj : Size=1, Index=None, Active=True\n",
      "        Key  : Active : Sense    : Expression\n",
      "        None :   True : minimize : x_1 + 2*x_2\n",
      "\n",
      "2 Constraint Declarations\n",
      "    con1 : Size=1, Index=None, Active=True\n",
      "        Key  : Lower : Body          : Upper : Active\n",
      "        None :   1.0 : 3*x_1 + 4*x_2 :  +Inf :   True\n",
      "    con2 : Size=1, Index=None, Active=True\n",
      "        Key  : Lower : Body          : Upper : Active\n",
      "        None :   2.0 : 2*x_1 + 5*x_2 :  +Inf :   True\n",
      "\n",
      "5 Declarations: x_1 x_2 obj con1 con2\n"
     ]
    }
   ],
   "source": [
    "instance.pprint()"
   ]
  },
  {
   "cell_type": "code",
   "execution_count": 14,
   "id": "b5840cc1-421a-4380-bccf-7ec34d2219c0",
   "metadata": {},
   "outputs": [],
   "source": [
    "opt = pe.SolverFactory(\"glpk\")\n"
   ]
  },
  {
   "cell_type": "code",
   "execution_count": 15,
   "id": "309bb695-c9d7-494a-99ab-36ded52a0dd8",
   "metadata": {},
   "outputs": [],
   "source": [
    "results = opt.solve(instance)"
   ]
  },
  {
   "cell_type": "code",
   "execution_count": 16,
   "id": "c084d946-4d76-423e-9342-67c4601e127b",
   "metadata": {},
   "outputs": [
    {
     "name": "stdout",
     "output_type": "stream",
     "text": [
      "# ==========================================================\n",
      "# = Solver Results                                         =\n",
      "# ==========================================================\n",
      "# ----------------------------------------------------------\n",
      "#   Problem Information\n",
      "# ----------------------------------------------------------\n",
      "Problem: \n",
      "- Name: unknown\n",
      "  Lower bound: 0.8\n",
      "  Upper bound: 0.8\n",
      "  Number of objectives: 1\n",
      "  Number of constraints: 2\n",
      "  Number of variables: 2\n",
      "  Number of nonzeros: 4\n",
      "  Sense: minimize\n",
      "# ----------------------------------------------------------\n",
      "#   Solver Information\n",
      "# ----------------------------------------------------------\n",
      "Solver: \n",
      "- Status: ok\n",
      "  Termination condition: optimal\n",
      "  Statistics: \n",
      "    Branch and bound: \n",
      "      Number of bounded subproblems: 0\n",
      "      Number of created subproblems: 0\n",
      "  Error rc: 0\n",
      "  Time: 0.042177677154541016\n",
      "# ----------------------------------------------------------\n",
      "#   Solution Information\n",
      "# ----------------------------------------------------------\n",
      "Solution: \n",
      "- number of solutions: 0\n",
      "  number of solutions displayed: 0\n"
     ]
    }
   ],
   "source": [
    "results.write() # result displayed in YAML format. yet another markup language"
   ]
  },
  {
   "cell_type": "code",
   "execution_count": 17,
   "id": "50fe2323-9a6a-48c0-b3c8-824a4c06129d",
   "metadata": {},
   "outputs": [],
   "source": [
    "assert results.solver.status == pe.SolverStatus.ok"
   ]
  },
  {
   "cell_type": "code",
   "execution_count": 18,
   "id": "bf218762-cc04-4043-81eb-e55476d5e935",
   "metadata": {},
   "outputs": [
    {
     "data": {
      "text/plain": [
       "0.8"
      ]
     },
     "execution_count": 18,
     "metadata": {},
     "output_type": "execute_result"
    }
   ],
   "source": [
    "instance.obj()"
   ]
  },
  {
   "cell_type": "code",
   "execution_count": 19,
   "id": "2a800a17-aa8a-43f6-bf15-6d1e31c9fdf1",
   "metadata": {},
   "outputs": [
    {
     "data": {
      "text/plain": [
       "0.4"
      ]
     },
     "execution_count": 19,
     "metadata": {},
     "output_type": "execute_result"
    }
   ],
   "source": [
    "instance.x_2()"
   ]
  },
  {
   "cell_type": "code",
   "execution_count": 20,
   "id": "9883a262-86c4-4025-85b3-2a5606a2403b",
   "metadata": {},
   "outputs": [
    {
     "data": {
      "text/plain": [
       "0.0"
      ]
     },
     "execution_count": 20,
     "metadata": {},
     "output_type": "execute_result"
    }
   ],
   "source": [
    "instance.x_1()"
   ]
  },
  {
   "cell_type": "code",
   "execution_count": 39,
   "id": "c8cd4da5-116b-48b2-b6d5-eb57616bc354",
   "metadata": {},
   "outputs": [],
   "source": [
    "# the above way of scripting the model is cumbersome if we have large number of decision\n",
    "# variables and constraints\n"
   ]
  },
  {
   "cell_type": "markdown",
   "id": "e2e41977-2b55-475a-9e57-76a449bc5ed0",
   "metadata": {},
   "source": [
    "# More general method of modelling"
   ]
  },
  {
   "cell_type": "code",
   "execution_count": 38,
   "id": "87030844-4680-40aa-9ad7-39ec200fc4dd",
   "metadata": {},
   "outputs": [],
   "source": [
    "N = [1,2]\n",
    "c = {1:1, 2:2}\n",
    "a = {(1,1):3, (2,1):4, (1,2):2, (2,2):5}\n",
    "b = {1:1, 2:2}\n"
   ]
  },
  {
   "cell_type": "code",
   "execution_count": 39,
   "id": "0a4f1917-8bfa-4abb-be76-c46610bb59c3",
   "metadata": {},
   "outputs": [],
   "source": [
    "model = pe.ConcreteModel()\n"
   ]
  },
  {
   "cell_type": "code",
   "execution_count": 41,
   "id": "16c9d003-0d89-47c0-8b72-312a60f3c0c8",
   "metadata": {},
   "outputs": [],
   "source": [
    "model.x = pe.Var(N, within = pe.NonNegativeReals)"
   ]
  },
  {
   "cell_type": "code",
   "execution_count": 44,
   "id": "bfa8ba84-52d2-4689-9beb-14af1ad4786b",
   "metadata": {},
   "outputs": [],
   "source": [
    "model.obj = pe.Objective(expr = sum(c[i]*model.x[i] for i in N))"
   ]
  },
  {
   "cell_type": "code",
   "execution_count": 45,
   "id": "cd38b82a-b135-47cc-b71e-4e5e75fe0a3f",
   "metadata": {},
   "outputs": [],
   "source": [
    "model.con1 = pe.Constraint(expr = sum(a[i,1]*model.x[i] for i in N) >= b[1] )"
   ]
  },
  {
   "cell_type": "code",
   "execution_count": 46,
   "id": "5dac790c-fd59-4972-80a7-374664ffc440",
   "metadata": {},
   "outputs": [],
   "source": [
    "model.con2 = pe.Constraint(expr =  sum(a[i,2]*model.x[i] for i in N) >= b[2])"
   ]
  },
  {
   "cell_type": "markdown",
   "id": "771a13f1-a453-45fb-b3b4-86f3bd663476",
   "metadata": {},
   "source": [
    "# Much more general way of modelling"
   ]
  },
  {
   "cell_type": "code",
   "execution_count": 47,
   "id": "c04337e7-4df3-4944-82e6-460f2330bc8c",
   "metadata": {},
   "outputs": [],
   "source": [
    "# Using functions as rules to construct objective and constraints\n",
    "# mdeling constraints with constrait rules\n",
    "N= [1,2]\n",
    "M = [1,2]\n",
    "c = {1:1,2:2}\n",
    "a = {(1,1):3, (2,1):4, (1,2):2, (2,2):5}\n",
    "b = {1:1, 2:2}\n",
    "\n"
   ]
  },
  {
   "cell_type": "code",
   "execution_count": 56,
   "id": "e699058d-eb49-4a24-9744-a99c518593a8",
   "metadata": {},
   "outputs": [],
   "source": [
    "model = pe.ConcreteModel()"
   ]
  },
  {
   "cell_type": "code",
   "execution_count": 57,
   "id": "3ad8033b-0246-4952-946f-5ea76b7aa66c",
   "metadata": {},
   "outputs": [],
   "source": [
    "model.x = pe.Var(N, within=pe.NonNegativeReals)"
   ]
  },
  {
   "cell_type": "code",
   "execution_count": 58,
   "id": "4d7e80b6-1530-43f0-8e06-c9388e48a2f9",
   "metadata": {},
   "outputs": [],
   "source": [
    "model.obj = pe.Objective(expr= sum(c[i]*model.x[i] for i in N))"
   ]
  },
  {
   "cell_type": "code",
   "execution_count": 59,
   "id": "18df1acb-5502-47cf-ad52-ef8af104ccfe",
   "metadata": {},
   "outputs": [],
   "source": [
    "def con_rule(model,m):\n",
    "    \n",
    "    return sum(a[i,m]*model.x[i] for i in N) >= b[m]\n",
    "model.con = pe.Constraint(M, rule= con_rule) # M is a list with [1,2] so first m takes value 1, m is int in nature"
   ]
  },
  {
   "cell_type": "markdown",
   "id": "14b0299d-dfc2-44c9-bdc8-cb46c178c661",
   "metadata": {},
   "source": [
    "# Abstract model"
   ]
  },
  {
   "cell_type": "code",
   "execution_count": null,
   "id": "4b57a660-f981-4f30-9e27-8fc29b3a2b70",
   "metadata": {},
   "outputs": [],
   "source": [
    "# Always data may not be available so we must model with an abstract model.\n",
    "# No hybrid components like abstract and concrete can be modeled\n",
    "# Always rules are necessary to construct abstract models"
   ]
  },
  {
   "cell_type": "code",
   "execution_count": 21,
   "id": "753c94f8-77e4-48eb-abce-c4d7ea7ccaaf",
   "metadata": {},
   "outputs": [],
   "source": [
    "model = pe.AbstractModel()"
   ]
  },
  {
   "cell_type": "code",
   "execution_count": 22,
   "id": "ea12d962-cc42-4b2b-a97f-a8783173c397",
   "metadata": {},
   "outputs": [],
   "source": [
    "model.N = pe.Set()\n",
    "model.M = pe.Set()\n",
    "model.c = pe.Param(model.N)\n",
    "model.a = pe.Param(model.N, model.M)\n",
    "model.b = pe.Param(model.M)\n"
   ]
  },
  {
   "cell_type": "code",
   "execution_count": 23,
   "id": "84f62630-652e-45fd-9c3b-aab1c1da55d8",
   "metadata": {},
   "outputs": [],
   "source": [
    "model.x = pe.Var(model.N, within=pe.NonNegativeReals)"
   ]
  },
  {
   "cell_type": "code",
   "execution_count": 24,
   "id": "78aac250-d171-4e3b-9636-8132a31f6549",
   "metadata": {},
   "outputs": [],
   "source": [
    "def obj_rule(model):\n",
    "    return sum(model.c[i]*model.x[i] for i in model.N)\n",
    "model.obj = pe.Objective(rule=obj_rule)"
   ]
  },
  {
   "cell_type": "code",
   "execution_count": 25,
   "id": "17b4b59a-30ba-43bc-83e7-1b492b933d9b",
   "metadata": {},
   "outputs": [],
   "source": [
    "def con_rule(model,m):\n",
    "    return sum(model.a[i,m]*model.x[i] for i in model.N) >= model.b[m]\n",
    "model.con = pe.Constraint(model.M, rule=con_rule)"
   ]
  },
  {
   "cell_type": "markdown",
   "id": "9b3d3b63-feb1-4506-9844-7588860f0420",
   "metadata": {},
   "source": [
    "# Data for Abstract model to create instances"
   ]
  },
  {
   "cell_type": "code",
   "execution_count": 27,
   "id": "17c0ee92-3f95-4898-a71e-c26885f7e634",
   "metadata": {},
   "outputs": [],
   "source": [
    "instance = model.create_instance('abstract1.dat')\n"
   ]
  },
  {
   "cell_type": "code",
   "execution_count": 28,
   "id": "31b68729-1a85-4b54-ad8b-adab6c61e24f",
   "metadata": {},
   "outputs": [
    {
     "name": "stdout",
     "output_type": "stream",
     "text": [
      "2 Set Declarations\n",
      "    M : Size=1, Index=None, Ordered=Insertion\n",
      "        Key  : Dimen : Domain : Size : Members\n",
      "        None :     1 :    Any :    2 : {1, 2}\n",
      "    N : Size=1, Index=None, Ordered=Insertion\n",
      "        Key  : Dimen : Domain : Size : Members\n",
      "        None :     1 :    Any :    2 : {1, 2}\n",
      "\n",
      "3 Param Declarations\n",
      "    a : Size=4, Index=N*M, Domain=Any, Default=None, Mutable=False\n",
      "        Key    : Value\n",
      "        (1, 1) :     3\n",
      "        (1, 2) :     2\n",
      "        (2, 1) :     4\n",
      "        (2, 2) :     5\n",
      "    b : Size=2, Index=M, Domain=Any, Default=None, Mutable=False\n",
      "        Key : Value\n",
      "          1 :     1\n",
      "          2 :     2\n",
      "    c : Size=2, Index=N, Domain=Any, Default=None, Mutable=False\n",
      "        Key : Value\n",
      "          1 :     1\n",
      "          2 :     2\n",
      "\n",
      "1 Var Declarations\n",
      "    x : Size=2, Index=N\n",
      "        Key : Lower : Value : Upper : Fixed : Stale : Domain\n",
      "          1 :     0 :  None :  None : False :  True : NonNegativeReals\n",
      "          2 :     0 :  None :  None : False :  True : NonNegativeReals\n",
      "\n",
      "1 Objective Declarations\n",
      "    obj : Size=1, Index=None, Active=True\n",
      "        Key  : Active : Sense    : Expression\n",
      "        None :   True : minimize : x[1] + 2*x[2]\n",
      "\n",
      "1 Constraint Declarations\n",
      "    con : Size=2, Index=M, Active=True\n",
      "        Key : Lower : Body            : Upper : Active\n",
      "          1 :   1.0 : 3*x[1] + 4*x[2] :  +Inf :   True\n",
      "          2 :   2.0 : 2*x[1] + 5*x[2] :  +Inf :   True\n",
      "\n",
      "8 Declarations: N M c a b x obj con\n"
     ]
    }
   ],
   "source": [
    "instance.pprint()"
   ]
  },
  {
   "cell_type": "code",
   "execution_count": 29,
   "id": "39a2fbb4-7684-4395-910d-d5c5939b4ca0",
   "metadata": {},
   "outputs": [],
   "source": [
    "opt = pe.SolverFactory(\"glpk\")"
   ]
  },
  {
   "cell_type": "code",
   "execution_count": 30,
   "id": "9033ddf7-b861-483c-8c23-cdfc0b80b2e8",
   "metadata": {},
   "outputs": [],
   "source": [
    "results = opt.solve(instance)"
   ]
  },
  {
   "cell_type": "code",
   "execution_count": 31,
   "id": "5f137db6-cb20-487d-9bf7-cacbe54eefce",
   "metadata": {},
   "outputs": [
    {
     "name": "stdout",
     "output_type": "stream",
     "text": [
      "# ==========================================================\n",
      "# = Solver Results                                         =\n",
      "# ==========================================================\n",
      "# ----------------------------------------------------------\n",
      "#   Problem Information\n",
      "# ----------------------------------------------------------\n",
      "Problem: \n",
      "- Name: unknown\n",
      "  Lower bound: 0.8\n",
      "  Upper bound: 0.8\n",
      "  Number of objectives: 1\n",
      "  Number of constraints: 2\n",
      "  Number of variables: 2\n",
      "  Number of nonzeros: 4\n",
      "  Sense: minimize\n",
      "# ----------------------------------------------------------\n",
      "#   Solver Information\n",
      "# ----------------------------------------------------------\n",
      "Solver: \n",
      "- Status: ok\n",
      "  Termination condition: optimal\n",
      "  Statistics: \n",
      "    Branch and bound: \n",
      "      Number of bounded subproblems: 0\n",
      "      Number of created subproblems: 0\n",
      "  Error rc: 0\n",
      "  Time: 0.07492375373840332\n",
      "# ----------------------------------------------------------\n",
      "#   Solution Information\n",
      "# ----------------------------------------------------------\n",
      "Solution: \n",
      "- number of solutions: 0\n",
      "  number of solutions displayed: 0\n"
     ]
    }
   ],
   "source": [
    "results.write()"
   ]
  },
  {
   "cell_type": "code",
   "execution_count": 32,
   "id": "c3d9bcc0-c4ca-4f00-a2df-925ecb84c890",
   "metadata": {},
   "outputs": [],
   "source": [
    "assert results.solver.status == pe.SolverStatus.ok"
   ]
  },
  {
   "cell_type": "code",
   "execution_count": 33,
   "id": "86ffe37e-4030-4398-b961-ae2955d6e335",
   "metadata": {},
   "outputs": [
    {
     "data": {
      "text/plain": [
       "0.8"
      ]
     },
     "execution_count": 33,
     "metadata": {},
     "output_type": "execute_result"
    }
   ],
   "source": [
    "instance.obj()"
   ]
  },
  {
   "cell_type": "code",
   "execution_count": 40,
   "id": "abc72b60-2036-41b5-a1b2-cc5aa8599e5e",
   "metadata": {},
   "outputs": [
    {
     "data": {
      "text/plain": [
       "0.0"
      ]
     },
     "execution_count": 40,
     "metadata": {},
     "output_type": "execute_result"
    }
   ],
   "source": [
    "instance.x[1]()"
   ]
  },
  {
   "cell_type": "code",
   "execution_count": 41,
   "id": "71cb43df-cb96-4d1e-b426-6b1de5739b64",
   "metadata": {},
   "outputs": [
    {
     "data": {
      "text/plain": [
       "0.4"
      ]
     },
     "execution_count": 41,
     "metadata": {},
     "output_type": "execute_result"
    }
   ],
   "source": [
    "instance.x[2]()"
   ]
  },
  {
   "cell_type": "code",
   "execution_count": null,
   "id": "8a550614-2720-462c-923c-bbb047ec519e",
   "metadata": {},
   "outputs": [],
   "source": []
  }
 ],
 "metadata": {
  "kernelspec": {
   "display_name": "Python 3 (ipykernel)",
   "language": "python",
   "name": "python3"
  },
  "language_info": {
   "codemirror_mode": {
    "name": "ipython",
    "version": 3
   },
   "file_extension": ".py",
   "mimetype": "text/x-python",
   "name": "python",
   "nbconvert_exporter": "python",
   "pygments_lexer": "ipython3",
   "version": "3.12.2"
  }
 },
 "nbformat": 4,
 "nbformat_minor": 5
}
